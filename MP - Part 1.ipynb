{
 "cells": [
  {
   "cell_type": "code",
   "execution_count": 50,
   "id": "e999766c-e6ac-4575-a3d7-a5f489364902",
   "metadata": {},
   "outputs": [],
   "source": [
    "import pandas as pd\n",
    "\n",
    "store_data = pd.read_excel(\"Client data (Social Media Co.).xlsx\", sheet_name='East_West', date_format='Dt_Customer')\n",
    "#print(store_data.head(10))"
   ]
  },
  {
   "cell_type": "code",
   "execution_count": 51,
   "id": "4f2bf88d-16d0-486f-bb8f-bdf46c786dc8",
   "metadata": {},
   "outputs": [
    {
     "name": "stderr",
     "output_type": "stream",
     "text": [
      "C:\\Users\\proyas.bose\\AppData\\Local\\Temp\\ipykernel_11888\\2939554302.py:1: UserWarning: Could not infer format, so each element will be parsed individually, falling back to `dateutil`. To ensure parsing is consistent and as-expected, please specify a format.\n",
      "  store_data['Dt_Customer'] = pd.to_datetime(store_data['Dt_Customer'], errors='coerce').dt.strftime('%Y-%m-%d')\n"
     ]
    }
   ],
   "source": [
    "store_data['Dt_Customer'] = pd.to_datetime(store_data['Dt_Customer'], errors='coerce').dt.strftime('%Y-%m-%d')"
   ]
  },
  {
   "cell_type": "code",
   "execution_count": 52,
   "id": "2733a39b-bed6-4c1d-b5d8-7afd44505dbc",
   "metadata": {},
   "outputs": [],
   "source": [
    "store_data[' Income '] = store_data[' Income '].replace('[\\$,]', '', regex=True).astype(float)"
   ]
  },
  {
   "cell_type": "code",
   "execution_count": 53,
   "id": "439a1639-0f86-4a54-a4b9-c910443e17a0",
   "metadata": {},
   "outputs": [],
   "source": [
    "store_data['Region'] = store_data['Region'].str.lower().replace({'eas': 'East', 'wst': 'West'})"
   ]
  },
  {
   "cell_type": "code",
   "execution_count": 54,
   "id": "a3c5b158-d6ad-4a58-b7c4-e058856c0d0e",
   "metadata": {},
   "outputs": [],
   "source": [
    "store_data['Region'] = store_data['Region'].str.lower().replace({'east': 'EAST', 'west': 'WEST'})"
   ]
  },
  {
   "cell_type": "code",
   "execution_count": 55,
   "id": "93a01095-6929-4f96-abfe-9e8d37d69aa6",
   "metadata": {},
   "outputs": [
    {
     "data": {
      "text/plain": [
       "array(['EAST', 'WEST'], dtype=object)"
      ]
     },
     "execution_count": 55,
     "metadata": {},
     "output_type": "execute_result"
    }
   ],
   "source": [
    "store_data['Region'].unique()"
   ]
  },
  {
   "cell_type": "code",
   "execution_count": 56,
   "id": "4002e238-a2fa-4a66-a282-1dec8912c7ec",
   "metadata": {},
   "outputs": [],
   "source": [
    "store_data.columns = store_data.columns.str.strip()"
   ]
  },
  {
   "cell_type": "code",
   "execution_count": 40,
   "id": "4af65550-f688-4e48-b06e-46d6e54b2f51",
   "metadata": {},
   "outputs": [
    {
     "data": {
      "text/plain": [
       "Index(['ID', 'Year_Birth', 'Education', 'Marital_Status', 'Income', 'Kidhome',\n",
       "       'Teenhome', 'Dt_Customer', 'Recency', 'MntWines', 'MntFruits',\n",
       "       'MntMeatProducts', 'MntFishProducts', 'MntSweetProducts',\n",
       "       'MntGoldProds', 'NumDealsPurchases', 'NumWebPurchases',\n",
       "       'NumCatalogPurchases', 'NumStorePurchases', 'NumWebVisitsMonth',\n",
       "       'AcceptedCmp3', 'AcceptedCmp4', 'AcceptedCmp5', 'AcceptedCmp1',\n",
       "       'AcceptedCmp2', 'Response', 'Complain', 'Country', 'Region',\n",
       "       'Store_Code'],\n",
       "      dtype='object')"
      ]
     },
     "execution_count": 40,
     "metadata": {},
     "output_type": "execute_result"
    }
   ],
   "source": [
    "store_data.columns"
   ]
  },
  {
   "cell_type": "code",
   "execution_count": null,
   "id": "7689cfca-f224-4159-a265-a07df170ce90",
   "metadata": {},
   "outputs": [],
   "source": []
  },
  {
   "cell_type": "code",
   "execution_count": 18,
   "id": "6276248c-4c67-4a22-8459-c56ce3b02be6",
   "metadata": {},
   "outputs": [],
   "source": [
    "store_data_ns = pd.read_excel(\"Client data (Social Media Co.).xlsx\", sheet_name='North_South', date_format='Dt_Customer')"
   ]
  },
  {
   "cell_type": "code",
   "execution_count": 19,
   "id": "042c1433-6cf5-4b78-84da-35ec49e4ddc9",
   "metadata": {},
   "outputs": [
    {
     "name": "stderr",
     "output_type": "stream",
     "text": [
      "C:\\Users\\proyas.bose\\AppData\\Local\\Temp\\ipykernel_11888\\1338186425.py:1: UserWarning: Could not infer format, so each element will be parsed individually, falling back to `dateutil`. To ensure parsing is consistent and as-expected, please specify a format.\n",
      "  store_data_ns['Dt_Customer'] = pd.to_datetime(store_data_ns['Dt_Customer'], errors='coerce').dt.strftime('%Y-%m-%d')\n"
     ]
    }
   ],
   "source": [
    "store_data_ns['Dt_Customer'] = pd.to_datetime(store_data_ns['Dt_Customer'], errors='coerce').dt.strftime('%Y-%m-%d')"
   ]
  },
  {
   "cell_type": "code",
   "execution_count": 20,
   "id": "75d991fa-5476-47d8-83ba-3c76e2c2eb29",
   "metadata": {},
   "outputs": [],
   "source": [
    "store_data_ns[' Income '] = store_data_ns[' Income '].replace('[\\$,]', '', regex=True).astype(float)"
   ]
  },
  {
   "cell_type": "code",
   "execution_count": 24,
   "id": "bac7663d-e0b2-4c23-b454-b9b855fbff4d",
   "metadata": {},
   "outputs": [],
   "source": [
    "store_data_ns['Region'] = store_data_ns['Region'].str.lower().replace({'nor': 'NORTH','north':'NORTH','soth': 'SOUTH','south':'SOUTH'})"
   ]
  },
  {
   "cell_type": "code",
   "execution_count": 25,
   "id": "4b68ffc4-1064-40da-9f64-11dadc13a962",
   "metadata": {},
   "outputs": [
    {
     "data": {
      "text/plain": [
       "array(['NORTH', 'SOUTH'], dtype=object)"
      ]
     },
     "execution_count": 25,
     "metadata": {},
     "output_type": "execute_result"
    }
   ],
   "source": [
    "store_data_ns['Region'].unique()"
   ]
  },
  {
   "cell_type": "code",
   "execution_count": 29,
   "id": "9da480fb-4bce-4268-a6bf-b43d07729cc6",
   "metadata": {},
   "outputs": [],
   "source": [
    "store_data_ns.columns = store_data_ns.columns.str.strip()"
   ]
  },
  {
   "cell_type": "code",
   "execution_count": 31,
   "id": "b2247239-af61-4bf2-ae13-7595d548df3a",
   "metadata": {},
   "outputs": [
    {
     "data": {
      "text/plain": [
       "Index(['ID', 'Year_Birth', 'Education', 'Marital_Status', 'Income', 'Kidhome',\n",
       "       'Teenhome', 'Dt_Customer', 'Recency', 'MntWines', 'MntFruits',\n",
       "       'MntMeatProducts', 'MntFishProducts', 'MntSweetProducts',\n",
       "       'MntGoldProds', 'NumDealsPurchases', 'NumWebPurchases',\n",
       "       'NumCatalogPurchases', 'NumStorePurchases', 'NumWebVisitsMonth',\n",
       "       'AcceptedCmp3', 'AcceptedCmp4', 'AcceptedCmp5', 'AcceptedCmp1',\n",
       "       'AcceptedCmp2', 'Response', 'Complain', 'Country', 'Region',\n",
       "       'Store_Code'],\n",
       "      dtype='object')"
      ]
     },
     "execution_count": 31,
     "metadata": {},
     "output_type": "execute_result"
    }
   ],
   "source": [
    "store_data_ns.columns"
   ]
  },
  {
   "cell_type": "code",
   "execution_count": 57,
   "id": "80cd7702-a6e3-4910-972a-a041c6120a4a",
   "metadata": {},
   "outputs": [
    {
     "name": "stdout",
     "output_type": "stream",
     "text": [
      "Index(['ID', 'Year_Birth', 'Education', 'Marital_Status', 'Income', 'Kidhome',\n",
      "       'Teenhome', 'Dt_Customer', 'Recency', 'MntWines', 'MntFruits',\n",
      "       'MntMeatProducts', 'MntFishProducts', 'MntSweetProducts',\n",
      "       'MntGoldProds', 'NumDealsPurchases', 'NumWebPurchases',\n",
      "       'NumCatalogPurchases', 'NumStorePurchases', 'NumWebVisitsMonth',\n",
      "       'AcceptedCmp3', 'AcceptedCmp4', 'AcceptedCmp5', 'AcceptedCmp1',\n",
      "       'AcceptedCmp2', 'Response', 'Complain', 'Country', 'Region',\n",
      "       'Store_Code'],\n",
      "      dtype='object')\n",
      "(4480, 30)\n",
      "       ID  Year_Birth   Education Marital_Status   Income  Kidhome  Teenhome  \\\n",
      "0   12621        1970  Graduation       Divorced  84835.0        0         0   \n",
      "1   10040        1961  Graduation         Single  57091.0        0         0   \n",
      "2   15537        1958  Graduation        Married  67267.0        0         1   \n",
      "3   14566        1967  Graduation       Together  32474.0        1         1   \n",
      "4   11711        1989  Graduation         Single  21474.0        1         0   \n",
      "5   12743        1958         PhD         Single  71691.0        0         0   \n",
      "6   13258        1954    2n Cycle        Married  63564.0        0         0   \n",
      "7   13368        1967  Graduation       Together  44931.0        0         1   \n",
      "8   14137        1954         PhD        Married  65324.0        0         1   \n",
      "9   11082        1954         PhD        Married  65324.0        0         1   \n",
      "10  12948        1947    2n Cycle        Married  81044.0        0         0   \n",
      "11  13046        1979      Master       Together  62499.0        1         0   \n",
      "12  11901        1959         PhD          Widow  67786.0        0         0   \n",
      "13  14426        1981  Graduation        Married  26872.0        0         0   \n",
      "14  12833        1969  Graduation        Married   4428.0        0         1   \n",
      "15  10392        1977  Graduation        Married  54809.0        1         1   \n",
      "16  14043        1977  Graduation        Married  54809.0        1         1   \n",
      "17  15706        1958         PhD       Divorced  32173.0        0         1   \n",
      "18  15077        1960    2n Cycle         Single  47823.0        0         1   \n",
      "19  15252        1958      Master         Single  30523.0        2         1   \n",
      "20  10863        1954      Master       Together  36634.0        0         1   \n",
      "21  15545        1966      Master         Single  43456.0        0         1   \n",
      "22  13474        1979      Master        Married  40662.0        1         0   \n",
      "23  10059        1976         PhD        Married  49544.0        1         0   \n",
      "24  13834        1969  Graduation         Single  57731.0        0         1   \n",
      "25  16073        1965      Master         Single  33168.0        0         1   \n",
      "26  12176        1956  Graduation       Together  54450.0        1         1   \n",
      "27  10398        1956  Graduation       Together  54450.0        1         1   \n",
      "28  12638        1956         PhD          Widow  35340.0        1         1   \n",
      "29  12832        1975  Graduation         Single  73170.0        0         0   \n",
      "\n",
      "   Dt_Customer  Recency  MntWines  ...  AcceptedCmp3  AcceptedCmp4  \\\n",
      "0   2014-06-16        0       189  ...             0             0   \n",
      "1   2014-06-15        0       464  ...             0             0   \n",
      "2   2014-05-13        0       134  ...             0             0   \n",
      "3   2014-11-05        0        10  ...             0             0   \n",
      "4   2014-08-04        0         6  ...             1             0   \n",
      "5   2014-03-17        0       336  ...             0             0   \n",
      "6   2014-01-29        0       769  ...             1             0   \n",
      "7   2014-01-18        0        78  ...             0             0   \n",
      "8   2014-11-01        0       384  ...             0             0   \n",
      "9   2014-11-01        0       384  ...             0             0   \n",
      "10  2013-12-27        0       450  ...             0             0   \n",
      "11  2013-09-12        0       140  ...             0             0   \n",
      "12  2013-07-12        0       431  ...             0             0   \n",
      "13  2013-10-16        0         3  ...             0             0   \n",
      "14  2013-05-10        0        16  ...             0             0   \n",
      "15  2013-11-09        0        63  ...             0             0   \n",
      "16  2013-11-09        0        63  ...             0             0   \n",
      "17  2013-01-08        0        18  ...             0             0   \n",
      "18  2013-07-23        0        53  ...             0             0   \n",
      "19  2013-01-07        0         5  ...             0             0   \n",
      "20  2013-05-28        0       213  ...             0             0   \n",
      "21  2013-03-26        0       275  ...             0             0   \n",
      "22  2013-03-15        0        40  ...             0             0   \n",
      "23  2013-12-02        0       308  ...             0             0   \n",
      "24  2012-11-23        0       266  ...             0             0   \n",
      "25  2012-10-13        0        80  ...             0             0   \n",
      "26  2012-09-14        0       454  ...             0             0   \n",
      "27  2012-09-14        0       454  ...             0             0   \n",
      "28  2014-06-29        1        27  ...             0             0   \n",
      "29  2014-05-31        1       184  ...             0             0   \n",
      "\n",
      "    AcceptedCmp5  AcceptedCmp1  AcceptedCmp2  Response  Complain  Country  \\\n",
      "0              0             0             0         1         0       SP   \n",
      "1              0             0             1         1         0       CA   \n",
      "2              0             0             0         0         0       US   \n",
      "3              0             0             0         0         0      AUS   \n",
      "4              0             0             0         1         0       SP   \n",
      "5              0             0             0         1         0       SP   \n",
      "6              0             0             0         1         0      GER   \n",
      "7              0             0             0         0         0       SP   \n",
      "8              0             0             0         0         0       US   \n",
      "9              0             0             0         0         0      IND   \n",
      "10             0             0             0         0         0       US   \n",
      "11             0             0             0         0         0       SP   \n",
      "12             0             0             0         1         0      IND   \n",
      "13             0             0             0         0         0       CA   \n",
      "14             0             0             0         0         0       SP   \n",
      "15             0             0             0         0         0       SP   \n",
      "16             0             0             0         1         0       SP   \n",
      "17             0             0             0         0         0       SP   \n",
      "18             0             0             0         0         0       CA   \n",
      "19             0             0             0         0         0       CA   \n",
      "20             0             0             0         0         0       SA   \n",
      "21             0             0             0         0         0      IND   \n",
      "22             0             0             0         0         0      GER   \n",
      "23             0             0             0         0         0       SP   \n",
      "24             0             0             0         0         0      IND   \n",
      "25             0             0             0         0         0       SP   \n",
      "26             0             0             0         0         0       SP   \n",
      "27             0             0             0         0         0       SP   \n",
      "28             0             0             0         0         0       SP   \n",
      "29             0             0             0         0         0       CA   \n",
      "\n",
      "    Region  Store_Code  \n",
      "0     EAST          N5  \n",
      "1     EAST         N11  \n",
      "2     EAST         N11  \n",
      "3     WEST          N5  \n",
      "4     EAST         N12  \n",
      "5     EAST         N11  \n",
      "6     EAST          N1  \n",
      "7     EAST         N12  \n",
      "8     WEST         N12  \n",
      "9     WEST          N5  \n",
      "10    EAST          N1  \n",
      "11    EAST          N5  \n",
      "12    EAST          N1  \n",
      "13    EAST         N11  \n",
      "14    WEST          N5  \n",
      "15    EAST          N5  \n",
      "16    EAST          N1  \n",
      "17    EAST         N11  \n",
      "18    EAST          N1  \n",
      "19    EAST         N11  \n",
      "20    EAST          N1  \n",
      "21    EAST          N5  \n",
      "22    WEST         N12  \n",
      "23    EAST          N5  \n",
      "24    EAST          N1  \n",
      "25    EAST          N5  \n",
      "26    WEST         N11  \n",
      "27    WEST          N5  \n",
      "28    WEST         N12  \n",
      "29    WEST          N5  \n",
      "\n",
      "[30 rows x 30 columns]\n"
     ]
    }
   ],
   "source": [
    "final_store_data = pd.concat([store_data,store_data_ns],axis = 0)\n",
    "print(final_store_data.columns)\n",
    "print(final_store_data.shape)\n",
    "print(final_store_data.head(30))"
   ]
  },
  {
   "cell_type": "code",
   "execution_count": 45,
   "id": "ebd3c451-ddf5-476a-83aa-5dd168246b3b",
   "metadata": {},
   "outputs": [
    {
     "name": "stdout",
     "output_type": "stream",
     "text": [
      "['EAST' 'WEST' 'NORTH' 'SOUTH']\n"
     ]
    }
   ],
   "source": [
    "print(final_store_data['Region'].unique())"
   ]
  },
  {
   "cell_type": "code",
   "execution_count": 46,
   "id": "df254adf-2da7-4f83-96a3-6c58b52ff7b2",
   "metadata": {},
   "outputs": [
    {
     "name": "stdout",
     "output_type": "stream",
     "text": [
      "  MONTH STORECODE  DAY BILL_ID  BILL_AMT  QTY  VALUE  PRICE  \\\n",
      "0    M1        N1    4    T375     225.0  1.0  225.0  225.0   \n",
      "1    M1        N1    4    T379      95.0  1.0   95.0   95.0   \n",
      "\n",
      "                       GRP                     SGRP                    SSGRP  \\\n",
      "0     BUTTER MARGR  (4/94)                   BUTTER                   SALTED   \n",
      "1  CONFECTIONERY - ECLAIRS  CONFECTIONERY - ECLAIRS  CONFECTIONERY - ECLAIRS   \n",
      "\n",
      "           CMP    MBRD               BRD  \n",
      "0    G C M M F    AMUL              AMUL  \n",
      "1  PARLE PRODS  MELODY  MELODY CHOCOLATY  \n"
     ]
    }
   ],
   "source": [
    "df = pd.read_csv(\"Stores Data.csv\")\n",
    "print(df.head(2))"
   ]
  },
  {
   "cell_type": "code",
   "execution_count": 49,
   "id": "d24d673c-8189-4971-a4cc-66f82f694605",
   "metadata": {},
   "outputs": [
    {
     "name": "stdout",
     "output_type": "stream",
     "text": [
      "(26985, 14)\n"
     ]
    }
   ],
   "source": [
    "print(df.shape)"
   ]
  },
  {
   "cell_type": "code",
   "execution_count": 58,
   "id": "ae22b71d-d264-4252-a38c-01caf86965d9",
   "metadata": {},
   "outputs": [
    {
     "name": "stdout",
     "output_type": "stream",
     "text": [
      "(13021541, 44)\n",
      "       ID  Year_Birth   Education Marital_Status   Income  Kidhome  Teenhome  \\\n",
      "0   12621        1970  Graduation       Divorced  84835.0        0         0   \n",
      "1   12621        1970  Graduation       Divorced  84835.0        0         0   \n",
      "2   12621        1970  Graduation       Divorced  84835.0        0         0   \n",
      "3   12621        1970  Graduation       Divorced  84835.0        0         0   \n",
      "4   12621        1970  Graduation       Divorced  84835.0        0         0   \n",
      "5   12621        1970  Graduation       Divorced  84835.0        0         0   \n",
      "6   12621        1970  Graduation       Divorced  84835.0        0         0   \n",
      "7   12621        1970  Graduation       Divorced  84835.0        0         0   \n",
      "8   12621        1970  Graduation       Divorced  84835.0        0         0   \n",
      "9   12621        1970  Graduation       Divorced  84835.0        0         0   \n",
      "10  12621        1970  Graduation       Divorced  84835.0        0         0   \n",
      "11  12621        1970  Graduation       Divorced  84835.0        0         0   \n",
      "12  12621        1970  Graduation       Divorced  84835.0        0         0   \n",
      "13  12621        1970  Graduation       Divorced  84835.0        0         0   \n",
      "14  12621        1970  Graduation       Divorced  84835.0        0         0   \n",
      "15  12621        1970  Graduation       Divorced  84835.0        0         0   \n",
      "16  12621        1970  Graduation       Divorced  84835.0        0         0   \n",
      "17  12621        1970  Graduation       Divorced  84835.0        0         0   \n",
      "18  12621        1970  Graduation       Divorced  84835.0        0         0   \n",
      "19  12621        1970  Graduation       Divorced  84835.0        0         0   \n",
      "20  12621        1970  Graduation       Divorced  84835.0        0         0   \n",
      "21  12621        1970  Graduation       Divorced  84835.0        0         0   \n",
      "22  12621        1970  Graduation       Divorced  84835.0        0         0   \n",
      "23  12621        1970  Graduation       Divorced  84835.0        0         0   \n",
      "24  12621        1970  Graduation       Divorced  84835.0        0         0   \n",
      "25  12621        1970  Graduation       Divorced  84835.0        0         0   \n",
      "26  12621        1970  Graduation       Divorced  84835.0        0         0   \n",
      "27  12621        1970  Graduation       Divorced  84835.0        0         0   \n",
      "28  12621        1970  Graduation       Divorced  84835.0        0         0   \n",
      "29  12621        1970  Graduation       Divorced  84835.0        0         0   \n",
      "\n",
      "   Dt_Customer  Recency  MntWines  ...  BILL_AMT  QTY  VALUE  PRICE  \\\n",
      "0   2014-06-16        0       189  ...      50.0  1.0   50.0   50.0   \n",
      "1   2014-06-16        0       189  ...     110.0  1.0   10.0   10.0   \n",
      "2   2014-06-16        0       189  ...     110.0  1.0   10.0   10.0   \n",
      "3   2014-06-16        0       189  ...     110.0  2.0   20.0   10.0   \n",
      "4   2014-06-16        0       189  ...     110.0  1.0   70.0   70.0   \n",
      "5   2014-06-16        0       189  ...     136.0  1.0   32.0   32.0   \n",
      "6   2014-06-16        0       189  ...     136.0  1.0    5.0    5.0   \n",
      "7   2014-06-16        0       189  ...     136.0  1.0   99.0   99.0   \n",
      "8   2014-06-16        0       189  ...      20.0  2.0   20.0   10.0   \n",
      "9   2014-06-16        0       189  ...      20.0  1.0   10.0   10.0   \n",
      "10  2014-06-16        0       189  ...      20.0  1.0   10.0   10.0   \n",
      "11  2014-06-16        0       189  ...      28.0  1.0   28.0   28.0   \n",
      "12  2014-06-16        0       189  ...     744.0  5.0   50.0   10.0   \n",
      "13  2014-06-16        0       189  ...     744.0  1.0  190.0  190.0   \n",
      "14  2014-06-16        0       189  ...     744.0  1.0  260.0  260.0   \n",
      "15  2014-06-16        0       189  ...     744.0  1.0  185.0  185.0   \n",
      "16  2014-06-16        0       189  ...     744.0  1.0   39.0   39.0   \n",
      "17  2014-06-16        0       189  ...     744.0  1.0   20.0   20.0   \n",
      "18  2014-06-16        0       189  ...      40.0  2.0   40.0   20.0   \n",
      "19  2014-06-16        0       189  ...      83.0  1.0   45.0   45.0   \n",
      "20  2014-06-16        0       189  ...      83.0  1.0   38.0   38.0   \n",
      "21  2014-06-16        0       189  ...     235.0  1.0   10.0   10.0   \n",
      "22  2014-06-16        0       189  ...     235.0  1.0   10.0   10.0   \n",
      "23  2014-06-16        0       189  ...     235.0  1.0   40.0   40.0   \n",
      "24  2014-06-16        0       189  ...     235.0  1.0  175.0  175.0   \n",
      "25  2014-06-16        0       189  ...     195.0  3.0   30.0   10.0   \n",
      "26  2014-06-16        0       189  ...     195.0  2.0   20.0   10.0   \n",
      "27  2014-06-16        0       189  ...     195.0  2.0   20.0   10.0   \n",
      "28  2014-06-16        0       189  ...     195.0  1.0  125.0  125.0   \n",
      "29  2014-06-16        0       189  ...     165.0  1.0  165.0  165.0   \n",
      "\n",
      "                               GRP                           SGRP  \\\n",
      "0           AGARBATTI & DHOOPBATTI                      AGARBATTI   \n",
      "1    CONFECTIONERY - COUGH LOZENGE  CONFECTIONERY - COUGH LOZENGE   \n",
      "2              SALTY SNACKS (2/97)                  POTATO WAFERS   \n",
      "3              SALTY SNACKS (2/97)            GATHIA/PAPRI/RIBLON   \n",
      "4          WASHING POWDERS/LIQUIDS        WASHING POWDERS/LIQUIDS   \n",
      "5   MOSQUITO REPELLANTS CTG (8/93)                          COILS   \n",
      "6               CLEANERS - UTENSIL                    TRADITIONAL   \n",
      "7                     TOOTH PASTES                   TOOTH PASTES   \n",
      "8       BISCUITS - CORE & NON CORE                   SALT CRACKER   \n",
      "9       BISCUITS - CORE & NON CORE                          MARIE   \n",
      "10      BISCUITS - CORE & NON CORE                        GLUCOSE   \n",
      "11      BISCUITS - CORE & NON CORE                          MARIE   \n",
      "12      BISCUITS - CORE & NON CORE                          CREAM   \n",
      "13  FRAGRANCE-PERFUM,DEO & COLOGNE          FRAGRANCE - DEODORANT   \n",
      "14  FRAGRANCE-PERFUM,DEO & COLOGNE            FRAGRANCE - PERFUME   \n",
      "15            DIAPERS       (8/93)           DIAPERS       (8/93)   \n",
      "16       COCONUT OIL PKTYP (08/02)                        BRANDED   \n",
      "17                    TOOTH PASTES                   TOOTH PASTES   \n",
      "18      BISCUITS - CORE & NON CORE                          MARIE   \n",
      "19           SHAMPOO - BY SEGMENTS                BOTTLES / TUBES   \n",
      "20                SANITARY NAPKINS               SANITARY NAPKINS   \n",
      "21      BISCUITS - CORE & NON CORE                   SALT CRACKER   \n",
      "22      BISCUITS - CORE & NON CORE                   SALT CRACKER   \n",
      "23      BISCUITS - CORE & NON CORE                          MARIE   \n",
      "24                      MILK FOODS                     MILK FOODS   \n",
      "25      BISCUITS - CORE & NON CORE                  SWEET/COOKIES   \n",
      "26      BISCUITS - CORE & NON CORE                  SWEET/COOKIES   \n",
      "27      BISCUITS - CORE & NON CORE                  SWEET/COOKIES   \n",
      "28                     SKIN CREAMS                      FACE WASH   \n",
      "29           SHAMPOO - BY SEGMENTS                BOTTLES / TUBES   \n",
      "\n",
      "                            SSGRP                         CMP  \\\n",
      "0                       AGARBATTI  SHALIMAR AGARBATTI COMPANY   \n",
      "1   CONFECTIONERY - COUGH LOZENGE               WRIGLEY INDIA   \n",
      "2                   POTATO WAFERS               PEPSICO INDIA   \n",
      "3             GATHIA/PAPRI/RIBLON               PEPSICO INDIA   \n",
      "4         WASHING POWDERS/LIQUIDS       PATANJALI AYURVED LTD   \n",
      "5                           COILS       GODREJ CONSUMER PRODS   \n",
      "6                            BARS  HINDUSTAN UNILEVER LIMITED   \n",
      "7                    TOOTH PASTES                       DABUR   \n",
      "8                    SALT CRACKER           SURYA FOOD & AGRO   \n",
      "9                           MARIE              BRITANNIA INDS   \n",
      "10                        GLUCOSE                 PARLE PRODS   \n",
      "11                          MARIE              BRITANNIA INDS   \n",
      "12                          CREAM              BRITANNIA INDS   \n",
      "13          FRAGRANCE - DEODORANT         VANESA CARE PVT LTD   \n",
      "14            FRAGRANCE - PERFUME                     RAMSONS   \n",
      "15           DIAPERS       (8/93)      UNICHARM INDIA PVT LTD   \n",
      "16                          RIGID                 MARICO INDS   \n",
      "17                   TOOTH PASTES           COLGATE-PALMOLIVE   \n",
      "18                          MARIE              BRITANNIA INDS   \n",
      "19                BOTTLES / TUBES        AYUR HERBALS PVT LTD   \n",
      "20               SANITARY NAPKINS      UNICHARM INDIA PVT LTD   \n",
      "21                   SALT CRACKER           SURYA FOOD & AGRO   \n",
      "22                   SALT CRACKER                 PARLE PRODS   \n",
      "23                          MARIE              BRITANNIA INDS   \n",
      "24                     MILK FOODS                   G C M M F   \n",
      "25                  SWEET/COOKIES   KAIRA DISTRICT CO-OP MILK   \n",
      "26                  SWEET/COOKIES                       I T C   \n",
      "27                  SWEET/COOKIES              BRITANNIA INDS   \n",
      "28                      FACE WASH  HINDUSTAN UNILEVER LIMITED   \n",
      "29                BOTTLES / TUBES  HINDUSTAN UNILEVER LIMITED   \n",
      "\n",
      "                    MBRD                             BRD  \n",
      "0               SHALIMAR                        SHALIMAR  \n",
      "1             DOUBLEMINT                      DOUBLEMINT  \n",
      "2                   LAYS            LAYS CARIBBEAN STYLE  \n",
      "3               KUR KURE  KUR KURE CHUTNEY RAJASTHANI ST  \n",
      "4              PATANJALI                       PATANJALI  \n",
      "5            GOOD KNIGHT               GOOD KNIGHT JUMBO  \n",
      "6                    VIM                             VIM  \n",
      "7                 BABOOL                          BABOOL  \n",
      "8              PRIYAGOLD               PRIYAGOLD ZIG ZAG  \n",
      "9             MARIE GOLD              MARIE GOLD REGULAR  \n",
      "10               PARLE-G                         PARLE-G  \n",
      "11            MARIE GOLD              MARIE GOLD REGULAR  \n",
      "12                 TREAT                       TREAT JAM  \n",
      "13                DENVER                 DENVER HAMILTON  \n",
      "14               RAMSONS                         RAMSONS  \n",
      "15       MAMY POKO PANTS        MAMY POKO PANTS STANDARD  \n",
      "16             PARACHUTE                       PARACHUTE  \n",
      "17     COLGATE MAX FRESH  COLGATE MAXFRSH SPICY FRSH RED  \n",
      "18            MARIE GOLD                 VITA MARIE GOLD  \n",
      "19                  AYUR                     AYUR HERBAL  \n",
      "20                  SOFY                   SOFY BODY FIT  \n",
      "21             PRIYAGOLD         PRIYAGOLD BUTTER DELITE  \n",
      "22                MONACO                          MONACO  \n",
      "23            MARIE GOLD                 VITA MARIE GOLD  \n",
      "24            AMUL SPRAY                      AMUL SPRAY  \n",
      "25                  AMUL                            AMUL  \n",
      "26  SUNFEAST MOM'S MAGIC  SUNFEAST MOM'S MGC RICH BUTTER  \n",
      "27              GOOD DAY                 GOOD DAY CASHEW  \n",
      "28                 PEARS                 PEARS FACE WASH  \n",
      "29               SUNSILK                         SUNSILK  \n",
      "\n",
      "[30 rows x 44 columns]\n"
     ]
    }
   ],
   "source": [
    "joined_data = pd.merge(final_store_data,df,left_on='Store_Code',right_on = 'STORECODE')\n",
    "print(joined_data.shape)\n",
    "print(joined_data.head(30))"
   ]
  },
  {
   "cell_type": "code",
   "execution_count": 60,
   "id": "fb3ce25c-4439-4310-9cd6-cbd605b75437",
   "metadata": {},
   "outputs": [
    {
     "name": "stdout",
     "output_type": "stream",
     "text": [
      "Index(['ID', 'Year_Birth', 'Education', 'Marital_Status', 'Income', 'Kidhome',\n",
      "       'Teenhome', 'Dt_Customer', 'Recency', 'MntWines', 'MntFruits',\n",
      "       'MntMeatProducts', 'MntFishProducts', 'MntSweetProducts',\n",
      "       'MntGoldProds', 'NumDealsPurchases', 'NumWebPurchases',\n",
      "       'NumCatalogPurchases', 'NumStorePurchases', 'NumWebVisitsMonth',\n",
      "       'AcceptedCmp3', 'AcceptedCmp4', 'AcceptedCmp5', 'AcceptedCmp1',\n",
      "       'AcceptedCmp2', 'Response', 'Complain', 'Country', 'Region',\n",
      "       'Store_Code', 'MONTH', 'STORECODE', 'DAY', 'BILL_ID', 'BILL_AMT', 'QTY',\n",
      "       'VALUE', 'PRICE', 'GRP', 'SGRP', 'SSGRP', 'CMP', 'MBRD', 'BRD'],\n",
      "      dtype='object')\n"
     ]
    }
   ],
   "source": [
    "print(joined_data.columns)"
   ]
  },
  {
   "cell_type": "code",
   "execution_count": 61,
   "id": "00d394fc-caae-4d6f-908d-4bcb23542add",
   "metadata": {},
   "outputs": [
    {
     "data": {
      "text/plain": [
       "array(['N5', 'N1', 'N10', 'N4', 'N7', 'N3', 'N8', 'N6', 'N2', 'N9'],\n",
       "      dtype=object)"
      ]
     },
     "execution_count": 61,
     "metadata": {},
     "output_type": "execute_result"
    }
   ],
   "source": [
    "joined_data['Store_Code'].unique()"
   ]
  },
  {
   "cell_type": "code",
   "execution_count": 65,
   "id": "90d907c8-3280-4a25-a016-166d63169e63",
   "metadata": {},
   "outputs": [
    {
     "data": {
      "text/html": [
       "<div>\n",
       "<style scoped>\n",
       "    .dataframe tbody tr th:only-of-type {\n",
       "        vertical-align: middle;\n",
       "    }\n",
       "\n",
       "    .dataframe tbody tr th {\n",
       "        vertical-align: top;\n",
       "    }\n",
       "\n",
       "    .dataframe thead th {\n",
       "        text-align: right;\n",
       "    }\n",
       "</style>\n",
       "<table border=\"1\" class=\"dataframe\">\n",
       "  <thead>\n",
       "    <tr style=\"text-align: right;\">\n",
       "      <th></th>\n",
       "      <th>Dt_Customer</th>\n",
       "      <th>STORECODE</th>\n",
       "      <th>Income</th>\n",
       "    </tr>\n",
       "  </thead>\n",
       "  <tbody>\n",
       "    <tr>\n",
       "      <th>0</th>\n",
       "      <td>2012-01-08</td>\n",
       "      <td>N1</td>\n",
       "      <td>7500.0</td>\n",
       "    </tr>\n",
       "    <tr>\n",
       "      <th>1</th>\n",
       "      <td>2012-01-08</td>\n",
       "      <td>N2</td>\n",
       "      <td>82576.0</td>\n",
       "    </tr>\n",
       "    <tr>\n",
       "      <th>2</th>\n",
       "      <td>2012-01-08</td>\n",
       "      <td>N7</td>\n",
       "      <td>40651.5</td>\n",
       "    </tr>\n",
       "    <tr>\n",
       "      <th>3</th>\n",
       "      <td>2012-01-09</td>\n",
       "      <td>N1</td>\n",
       "      <td>94871.0</td>\n",
       "    </tr>\n",
       "    <tr>\n",
       "      <th>4</th>\n",
       "      <td>2012-01-10</td>\n",
       "      <td>N1</td>\n",
       "      <td>65369.0</td>\n",
       "    </tr>\n",
       "  </tbody>\n",
       "</table>\n",
       "</div>"
      ],
      "text/plain": [
       "  Dt_Customer STORECODE   Income\n",
       "0  2012-01-08        N1   7500.0\n",
       "1  2012-01-08        N2  82576.0\n",
       "2  2012-01-08        N7  40651.5\n",
       "3  2012-01-09        N1  94871.0\n",
       "4  2012-01-10        N1  65369.0"
      ]
     },
     "execution_count": 65,
     "metadata": {},
     "output_type": "execute_result"
    }
   ],
   "source": [
    "data_for_forecast = joined_data.groupby(['Dt_Customer','STORECODE'])['Income'].mean().reset_index().sort_values('Dt_Customer',ascending  = True)\n",
    "data_for_forecast.head(5)"
   ]
  },
  {
   "cell_type": "code",
   "execution_count": 66,
   "id": "066347dd-fda6-4baa-8b3b-5976afa5b63f",
   "metadata": {},
   "outputs": [],
   "source": [
    "data_for_forecast.to_csv('data_for_forecast.csv')"
   ]
  },
  {
   "cell_type": "code",
   "execution_count": null,
   "id": "89ca5b96-62bc-444f-b4f4-3f83448f03ae",
   "metadata": {},
   "outputs": [],
   "source": []
  }
 ],
 "metadata": {
  "kernelspec": {
   "display_name": "Python 3 (ipykernel)",
   "language": "python",
   "name": "python3"
  },
  "language_info": {
   "codemirror_mode": {
    "name": "ipython",
    "version": 3
   },
   "file_extension": ".py",
   "mimetype": "text/x-python",
   "name": "python",
   "nbconvert_exporter": "python",
   "pygments_lexer": "ipython3",
   "version": "3.10.12"
  }
 },
 "nbformat": 4,
 "nbformat_minor": 5
}
